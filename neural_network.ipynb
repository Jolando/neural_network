{
  "nbformat": 4,
  "nbformat_minor": 0,
  "metadata": {
    "colab": {
      "name": "neural network.ipynb",
      "provenance": [],
      "collapsed_sections": [],
      "toc_visible": true,
      "authorship_tag": "ABX9TyOn05xfUM4Z5fdYwkyRTxnm",
      "include_colab_link": true
    },
    "kernelspec": {
      "name": "python3",
      "display_name": "Python 3"
    },
    "language_info": {
      "name": "python"
    }
  },
  "cells": [
    {
      "cell_type": "markdown",
      "metadata": {
        "id": "view-in-github",
        "colab_type": "text"
      },
      "source": [
        "<a href=\"https://colab.research.google.com/github/YapingWu/neural_network/blob/main/neural_network.ipynb\" target=\"_parent\"><img src=\"https://colab.research.google.com/assets/colab-badge.svg\" alt=\"Open In Colab\"/></a>"
      ]
    },
    {
      "cell_type": "markdown",
      "metadata": {
        "id": "RAyhgyZfF23K"
      },
      "source": [
        "## 挂载google云盘"
      ]
    },
    {
      "cell_type": "code",
      "metadata": {
        "colab": {
          "base_uri": "https://localhost:8080/"
        },
        "id": "WDj-5IOyFyaI",
        "outputId": "053fade3-7aa9-40ad-d25a-a8cce3f4eb88"
      },
      "source": [
        "from google.colab import drive\n",
        "drive.mount('/content/gdrive')"
      ],
      "execution_count": 1,
      "outputs": [
        {
          "output_type": "stream",
          "text": [
            "Mounted at /content/gdrive\n"
          ],
          "name": "stdout"
        }
      ]
    },
    {
      "cell_type": "code",
      "metadata": {
        "colab": {
          "base_uri": "https://localhost:8080/"
        },
        "id": "F9PkC6ZlWbW4",
        "outputId": "a8a44949-c62c-4a3e-fa6a-96d8f4a9b176"
      },
      "source": [
        "import os\n",
        "\n",
        "%cd '/content/gdrive/MyDrive/'\n",
        "\n",
        "root = 'neural_network'\n",
        "\n",
        "if not os.path.exists(root):\n",
        "  !git clone https://github.com/YapingWu/neural_network.git\n",
        "else:\n",
        "  %cd '$root'\n",
        "  !git stash\n",
        "  !git stash clear\n",
        "  !git pull origin main"
      ],
      "execution_count": 5,
      "outputs": [
        {
          "output_type": "stream",
          "text": [
            "/content/gdrive/MyDrive\n",
            "/content/gdrive/MyDrive/neural_network\n",
            "No local changes to save\n",
            "From https://github.com/YapingWu/neural_network\n",
            " * branch            main       -> FETCH_HEAD\n",
            "Already up to date.\n"
          ],
          "name": "stdout"
        }
      ]
    },
    {
      "cell_type": "markdown",
      "metadata": {
        "id": "G6OZ_uzJIRcr"
      },
      "source": [
        "# 查看GPU信息\n",
        "连接gpu：[Tensorflow with GPU](https://colab.research.google.com/notebooks/gpu.ipynb)"
      ]
    },
    {
      "cell_type": "code",
      "metadata": {
        "colab": {
          "base_uri": "https://localhost:8080/"
        },
        "id": "EWt_dXUhIQAm",
        "outputId": "ca14bc29-baea-4b4f-9db8-6cf1c6bd4dbb"
      },
      "source": [
        "!nvidia-smi"
      ],
      "execution_count": 1,
      "outputs": [
        {
          "output_type": "stream",
          "text": [
            "NVIDIA-SMI has failed because it couldn't communicate with the NVIDIA driver. Make sure that the latest NVIDIA driver is installed and running.\n",
            "\n"
          ],
          "name": "stdout"
        }
      ]
    }
  ]
}